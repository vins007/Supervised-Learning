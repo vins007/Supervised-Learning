{
 "cells": [
  {
   "cell_type": "code",
   "execution_count": 6,
   "metadata": {},
   "outputs": [],
   "source": [
    "%matplotlib inline\n",
    "import matplotlib.pyplot as plt\n",
    "import seaborn as sns\n",
    "sns.set()\n",
    "import numpy as np\n",
    "import pandas as pd"
   ]
  },
  {
   "cell_type": "code",
   "execution_count": 8,
   "metadata": {},
   "outputs": [
    {
     "data": {
      "text/plain": [
       "[<matplotlib.lines.Line2D at 0x27eac571828>]"
      ]
     },
     "execution_count": 8,
     "metadata": {},
     "output_type": "execute_result"
    },
    {
     "data": {
      "image/png": "[encoded data removed]",
      "text/plain": [
       "<Figure size 432x288 with 1 Axes>"
      ]
     },
     "metadata": {},
     "output_type": "display_data"
    }
   ],
   "source": [
    "\n",
    "a = np.linspace(1,50,num=50)\n",
    "b=np.linspace(2,2.5,num=50)\n",
    "\n",
    "plt.plot(a,b,'+')"
   ]
  },
  {
   "cell_type": "code",
   "execution_count": 9,
   "metadata": {},
   "outputs": [
    {
     "data": {
      "text/plain": [
       "LinearRegression(copy_X=True, fit_intercept=True, n_jobs=None,\n",
       "         normalize=False)"
      ]
     },
     "execution_count": 9,
     "metadata": {},
     "output_type": "execute_result"
    }
   ],
   "source": [
    "from sklearn.linear_model import LinearRegression\n",
    "model = LinearRegression(fit_intercept=True)\n",
    "model.fit(a[:,np.newaxis],b)"
   ]
  },
  {
   "cell_type": "code",
   "execution_count": 10,
   "metadata": {},
   "outputs": [
    {
     "data": {
      "image/png": "[encoded data removed]",
      "text/plain": [
       "<Figure size 432x288 with 1 Axes>"
      ]
     },
     "metadata": {},
     "output_type": "display_data"
    }
   ],
   "source": [
    "xfit = np.linspace(0,10,1000)\n",
    "yfit = model.predict(xfit[:,np.newaxis])\n",
    "plt.plot(a,b,'+')\n",
    "plt.plot(xfit,yfit);"
   ]
  },
  {
   "cell_type": "code",
   "execution_count": 11,
   "metadata": {},
   "outputs": [
    {
     "name": "stdout",
     "output_type": "stream",
     "text": [
      "model slope:  [0.01020408]\n",
      "model intercept:  1.989795918367347\n"
     ]
    }
   ],
   "source": [
    "print(\"model slope: \",model.coef_)\n",
    "print(\"model intercept: \",model.intercept_)"
   ]
  },
  {
   "cell_type": "code",
   "execution_count": null,
   "metadata": {},
   "outputs": [],
   "source": []
  },
  {
   "cell_type": "code",
   "execution_count": 12,
   "metadata": {},
   "outputs": [],
   "source": [
    "x = np.abs(np.random.randn(50)*10)\n",
    "y = np.abs(2*x-5+np.random.randn(50)*10)"
   ]
  },
  {
   "cell_type": "code",
   "execution_count": 13,
   "metadata": {},
   "outputs": [
    {
     "data": {
      "text/plain": [
       "<matplotlib.collections.PathCollection at 0x27eae0f7b00>"
      ]
     },
     "execution_count": 13,
     "metadata": {},
     "output_type": "execute_result"
    },
    {
     "data": {
      "image/png": "[encoded data removed]",
      "text/plain": [
       "<Figure size 432x288 with 1 Axes>"
      ]
     },
     "metadata": {},
     "output_type": "display_data"
    }
   ],
   "source": [
    "plt.scatter(x,y)"
   ]
  },
  {
   "cell_type": "code",
   "execution_count": 14,
   "metadata": {},
   "outputs": [],
   "source": [
    "data = pd.DataFrame({'x':x,'y':y})"
   ]
  },
  {
   "cell_type": "code",
   "execution_count": 15,
   "metadata": {},
   "outputs": [
    {
     "name": "stdout",
     "output_type": "stream",
     "text": [
      "(50, 2)\n"
     ]
    },
    {
     "data": {
      "text/html": [
       "<div>\n",
       "<style scoped>\n",
       "    .dataframe tbody tr th:only-of-type {\n",
       "        vertical-align: middle;\n",
       "    }\n",
       "\n",
       "    .dataframe tbody tr th {\n",
       "        vertical-align: top;\n",
       "    }\n",
       "\n",
       "    .dataframe thead th {\n",
       "        text-align: right;\n",
       "    }\n",
       "</style>\n",
       "<table border=\"1\" class=\"dataframe\">\n",
       "  <thead>\n",
       "    <tr style=\"text-align: right;\">\n",
       "      <th></th>\n",
       "      <th>x</th>\n",
       "      <th>y</th>\n",
       "    </tr>\n",
       "  </thead>\n",
       "  <tbody>\n",
       "    <tr>\n",
       "      <th>45</th>\n",
       "      <td>3.421332</td>\n",
       "      <td>4.613697</td>\n",
       "    </tr>\n",
       "    <tr>\n",
       "      <th>46</th>\n",
       "      <td>10.674418</td>\n",
       "      <td>27.297802</td>\n",
       "    </tr>\n",
       "    <tr>\n",
       "      <th>47</th>\n",
       "      <td>11.427819</td>\n",
       "      <td>23.781031</td>\n",
       "    </tr>\n",
       "    <tr>\n",
       "      <th>48</th>\n",
       "      <td>9.852438</td>\n",
       "      <td>16.150095</td>\n",
       "    </tr>\n",
       "    <tr>\n",
       "      <th>49</th>\n",
       "      <td>7.659529</td>\n",
       "      <td>5.131771</td>\n",
       "    </tr>\n",
       "  </tbody>\n",
       "</table>\n",
       "</div>"
      ],
      "text/plain": [
       "            x          y\n",
       "45   3.421332   4.613697\n",
       "46  10.674418  27.297802\n",
       "47  11.427819  23.781031\n",
       "48   9.852438  16.150095\n",
       "49   7.659529   5.131771"
      ]
     },
     "execution_count": 15,
     "metadata": {},
     "output_type": "execute_result"
    }
   ],
   "source": [
    "print(data.shape)\n",
    "data.tail()"
   ]
  },
  {
   "cell_type": "code",
   "execution_count": 16,
   "metadata": {},
   "outputs": [
    {
     "name": "stderr",
     "output_type": "stream",
     "text": [
      "C:\\anaconda\\lib\\site-packages\\seaborn\\axisgrid.py:2065: UserWarning: The `size` parameter has been renamed to `height`; pleaes update your code.\n",
      "  warnings.warn(msg, UserWarning)\n"
     ]
    },
    {
     "data": {
      "text/plain": [
       "<seaborn.axisgrid.PairGrid at 0x27eae120ac8>"
      ]
     },
     "execution_count": 16,
     "metadata": {},
     "output_type": "execute_result"
    },
    {
     "data": {
      "image/png": "[encoded data removed]",
      "text/plain": [
       "<Figure size 360x360 with 1 Axes>"
      ]
     },
     "metadata": {},
     "output_type": "display_data"
    }
   ],
   "source": [
    "import seaborn as sns\n",
    "sns.pairplot(data,x_vars='x',y_vars='y',size=5,kind='reg')"
   ]
  },
  {
   "cell_type": "code",
   "execution_count": 17,
   "metadata": {},
   "outputs": [],
   "source": [
    "X = x.reshape(-1,1)\n",
    "Y = data.y"
   ]
  },
  {
   "cell_type": "code",
   "execution_count": 18,
   "metadata": {},
   "outputs": [
    {
     "data": {
      "text/plain": [
       "(50,)"
      ]
     },
     "execution_count": 18,
     "metadata": {},
     "output_type": "execute_result"
    }
   ],
   "source": [
    "Y.head()\n",
    "y.shape"
   ]
  },
  {
   "cell_type": "code",
   "execution_count": 19,
   "metadata": {},
   "outputs": [],
   "source": [
    "\n",
    "from sklearn import datasets\n",
    "from sklearn.model_selection import train_test_split"
   ]
  },
  {
   "cell_type": "code",
   "execution_count": 20,
   "metadata": {},
   "outputs": [],
   "source": [
    "X_train,X_test,y_train,y_test = train_test_split(X.reshape(-1,1),Y,random_state=1)"
   ]
  },
  {
   "cell_type": "code",
   "execution_count": 21,
   "metadata": {},
   "outputs": [
    {
     "name": "stdout",
     "output_type": "stream",
     "text": [
      "(37, 1)\n",
      "(13, 1)\n",
      "(37,)\n",
      "(13,)\n"
     ]
    }
   ],
   "source": [
    "print(X_train.shape)\n",
    "print(X_test.shape)\n",
    "print(y_train.shape)\n",
    "print(y_test.shape)"
   ]
  },
  {
   "cell_type": "code",
   "execution_count": 22,
   "metadata": {},
   "outputs": [],
   "source": [
    "from sklearn.linear_model import LinearRegression\n",
    "\n",
    "linreg = LinearRegression()"
   ]
  },
  {
   "cell_type": "code",
   "execution_count": 23,
   "metadata": {},
   "outputs": [
    {
     "data": {
      "text/plain": [
       "LinearRegression(copy_X=True, fit_intercept=True, n_jobs=None,\n",
       "         normalize=False)"
      ]
     },
     "execution_count": 23,
     "metadata": {},
     "output_type": "execute_result"
    }
   ],
   "source": [
    "linreg.fit(X_train,y_train)"
   ]
  },
  {
   "cell_type": "code",
   "execution_count": 24,
   "metadata": {},
   "outputs": [
    {
     "name": "stdout",
     "output_type": "stream",
     "text": [
      "2.7656656336278864\n",
      "[1.64077273]\n"
     ]
    }
   ],
   "source": [
    "print(linreg.intercept_)\n",
    "print(linreg.coef_)"
   ]
  },
  {
   "cell_type": "code",
   "execution_count": 25,
   "metadata": {},
   "outputs": [
    {
     "data": {
      "text/plain": [
       "(13,)"
      ]
     },
     "execution_count": 25,
     "metadata": {},
     "output_type": "execute_result"
    }
   ],
   "source": [
    "y_pred = linreg.predict(X_test)\n",
    "y_pred.shape\n"
   ]
  },
  {
   "cell_type": "code",
   "execution_count": 27,
   "metadata": {},
   "outputs": [
    {
     "data": {
      "text/plain": [
       "[<matplotlib.lines.Line2D at 0x27eae2ae320>]"
      ]
     },
     "execution_count": 27,
     "metadata": {},
     "output_type": "execute_result"
    },
    {
     "data": {
      "image/png": "[encoded data removed]",
      "text/plain": [
       "<Figure size 432x288 with 1 Axes>"
      ]
     },
     "metadata": {},
     "output_type": "display_data"
    }
   ],
   "source": [
    "plt.scatter(x,y)\n",
    "plt.plot(X_test,y_pred)"
   ]
  },
  {
   "cell_type": "code",
   "execution_count": 26,
   "metadata": {},
   "outputs": [
    {
     "data": {
      "text/plain": [
       "<matplotlib.collections.PathCollection at 0x27eae29f048>"
      ]
     },
     "execution_count": 26,
     "metadata": {},
     "output_type": "execute_result"
    },
    {
     "data": {
      "image/png": "[encoded data removed]",
      "text/plain": [
       "<Figure size 432x288 with 1 Axes>"
      ]
     },
     "metadata": {},
     "output_type": "display_data"
    }
   ],
   "source": [
    "plt.scatter(X_test,y_pred)"
   ]
  },
  {
   "cell_type": "code",
   "execution_count": 61,
   "metadata": {},
   "outputs": [
    {
     "data": {
      "text/html": [
       "<div>\n",
       "<style scoped>\n",
       "    .dataframe tbody tr th:only-of-type {\n",
       "        vertical-align: middle;\n",
       "    }\n",
       "\n",
       "    .dataframe tbody tr th {\n",
       "        vertical-align: top;\n",
       "    }\n",
       "\n",
       "    .dataframe thead th {\n",
       "        text-align: right;\n",
       "    }\n",
       "</style>\n",
       "<table border=\"1\" class=\"dataframe\">\n",
       "  <thead>\n",
       "    <tr style=\"text-align: right;\">\n",
       "      <th></th>\n",
       "      <th>x</th>\n",
       "      <th>x_test</th>\n",
       "      <th>y</th>\n",
       "      <th>y_pred</th>\n",
       "    </tr>\n",
       "  </thead>\n",
       "  <tbody>\n",
       "    <tr>\n",
       "      <th>0</th>\n",
       "      <td>13.177957</td>\n",
       "      <td>24.344705</td>\n",
       "      <td>32.807207</td>\n",
       "      <td>42.709794</td>\n",
       "    </tr>\n",
       "    <tr>\n",
       "      <th>1</th>\n",
       "      <td>10.816481</td>\n",
       "      <td>1.938812</td>\n",
       "      <td>34.874936</td>\n",
       "      <td>5.946815</td>\n",
       "    </tr>\n",
       "    <tr>\n",
       "      <th>2</th>\n",
       "      <td>8.722598</td>\n",
       "      <td>22.602292</td>\n",
       "      <td>0.492838</td>\n",
       "      <td>39.850890</td>\n",
       "    </tr>\n",
       "    <tr>\n",
       "      <th>3</th>\n",
       "      <td>12.124593</td>\n",
       "      <td>6.007846</td>\n",
       "      <td>7.305623</td>\n",
       "      <td>12.623175</td>\n",
       "    </tr>\n",
       "    <tr>\n",
       "      <th>4</th>\n",
       "      <td>1.929751</td>\n",
       "      <td>8.722598</td>\n",
       "      <td>2.041573</td>\n",
       "      <td>17.077466</td>\n",
       "    </tr>\n",
       "    <tr>\n",
       "      <th>5</th>\n",
       "      <td>3.114900</td>\n",
       "      <td>12.124593</td>\n",
       "      <td>6.166324</td>\n",
       "      <td>22.659368</td>\n",
       "    </tr>\n",
       "    <tr>\n",
       "      <th>6</th>\n",
       "      <td>1.943941</td>\n",
       "      <td>9.852438</td>\n",
       "      <td>1.250036</td>\n",
       "      <td>18.931277</td>\n",
       "    </tr>\n",
       "    <tr>\n",
       "      <th>7</th>\n",
       "      <td>2.196605</td>\n",
       "      <td>4.389352</td>\n",
       "      <td>9.669859</td>\n",
       "      <td>9.967595</td>\n",
       "    </tr>\n",
       "    <tr>\n",
       "      <th>8</th>\n",
       "      <td>5.066082</td>\n",
       "      <td>10.674418</td>\n",
       "      <td>15.291499</td>\n",
       "      <td>20.279960</td>\n",
       "    </tr>\n",
       "    <tr>\n",
       "      <th>9</th>\n",
       "      <td>0.606776</td>\n",
       "      <td>9.641659</td>\n",
       "      <td>10.353384</td>\n",
       "      <td>18.585437</td>\n",
       "    </tr>\n",
       "    <tr>\n",
       "      <th>10</th>\n",
       "      <td>20.579469</td>\n",
       "      <td>0.331994</td>\n",
       "      <td>26.004219</td>\n",
       "      <td>3.310392</td>\n",
       "    </tr>\n",
       "    <tr>\n",
       "      <th>11</th>\n",
       "      <td>17.499955</td>\n",
       "      <td>12.164095</td>\n",
       "      <td>23.107588</td>\n",
       "      <td>22.724180</td>\n",
       "    </tr>\n",
       "    <tr>\n",
       "      <th>12</th>\n",
       "      <td>10.692321</td>\n",
       "      <td>1.345007</td>\n",
       "      <td>15.186861</td>\n",
       "      <td>4.972517</td>\n",
       "    </tr>\n",
       "    <tr>\n",
       "      <th>13</th>\n",
       "      <td>3.194851</td>\n",
       "      <td>NaN</td>\n",
       "      <td>5.471871</td>\n",
       "      <td>NaN</td>\n",
       "    </tr>\n",
       "    <tr>\n",
       "      <th>14</th>\n",
       "      <td>17.400498</td>\n",
       "      <td>NaN</td>\n",
       "      <td>35.893838</td>\n",
       "      <td>NaN</td>\n",
       "    </tr>\n",
       "    <tr>\n",
       "      <th>15</th>\n",
       "      <td>15.973397</td>\n",
       "      <td>NaN</td>\n",
       "      <td>25.479284</td>\n",
       "      <td>NaN</td>\n",
       "    </tr>\n",
       "    <tr>\n",
       "      <th>16</th>\n",
       "      <td>4.924736</td>\n",
       "      <td>NaN</td>\n",
       "      <td>15.989444</td>\n",
       "      <td>NaN</td>\n",
       "    </tr>\n",
       "    <tr>\n",
       "      <th>17</th>\n",
       "      <td>9.537637</td>\n",
       "      <td>NaN</td>\n",
       "      <td>18.401743</td>\n",
       "      <td>NaN</td>\n",
       "    </tr>\n",
       "    <tr>\n",
       "      <th>18</th>\n",
       "      <td>8.528832</td>\n",
       "      <td>NaN</td>\n",
       "      <td>30.559384</td>\n",
       "      <td>NaN</td>\n",
       "    </tr>\n",
       "    <tr>\n",
       "      <th>19</th>\n",
       "      <td>10.107833</td>\n",
       "      <td>NaN</td>\n",
       "      <td>1.134753</td>\n",
       "      <td>NaN</td>\n",
       "    </tr>\n",
       "    <tr>\n",
       "      <th>20</th>\n",
       "      <td>13.570758</td>\n",
       "      <td>NaN</td>\n",
       "      <td>26.808535</td>\n",
       "      <td>NaN</td>\n",
       "    </tr>\n",
       "    <tr>\n",
       "      <th>21</th>\n",
       "      <td>1.345007</td>\n",
       "      <td>NaN</td>\n",
       "      <td>0.173402</td>\n",
       "      <td>NaN</td>\n",
       "    </tr>\n",
       "    <tr>\n",
       "      <th>22</th>\n",
       "      <td>5.685145</td>\n",
       "      <td>NaN</td>\n",
       "      <td>17.155569</td>\n",
       "      <td>NaN</td>\n",
       "    </tr>\n",
       "    <tr>\n",
       "      <th>23</th>\n",
       "      <td>6.507735</td>\n",
       "      <td>NaN</td>\n",
       "      <td>5.771138</td>\n",
       "      <td>NaN</td>\n",
       "    </tr>\n",
       "    <tr>\n",
       "      <th>24</th>\n",
       "      <td>5.363026</td>\n",
       "      <td>NaN</td>\n",
       "      <td>7.885478</td>\n",
       "      <td>NaN</td>\n",
       "    </tr>\n",
       "    <tr>\n",
       "      <th>25</th>\n",
       "      <td>0.490278</td>\n",
       "      <td>NaN</td>\n",
       "      <td>2.323175</td>\n",
       "      <td>NaN</td>\n",
       "    </tr>\n",
       "    <tr>\n",
       "      <th>26</th>\n",
       "      <td>7.645722</td>\n",
       "      <td>NaN</td>\n",
       "      <td>16.788313</td>\n",
       "      <td>NaN</td>\n",
       "    </tr>\n",
       "    <tr>\n",
       "      <th>27</th>\n",
       "      <td>24.344705</td>\n",
       "      <td>NaN</td>\n",
       "      <td>34.424894</td>\n",
       "      <td>NaN</td>\n",
       "    </tr>\n",
       "    <tr>\n",
       "      <th>28</th>\n",
       "      <td>7.705024</td>\n",
       "      <td>NaN</td>\n",
       "      <td>22.281885</td>\n",
       "      <td>NaN</td>\n",
       "    </tr>\n",
       "    <tr>\n",
       "      <th>29</th>\n",
       "      <td>4.389352</td>\n",
       "      <td>NaN</td>\n",
       "      <td>14.689356</td>\n",
       "      <td>NaN</td>\n",
       "    </tr>\n",
       "    <tr>\n",
       "      <th>30</th>\n",
       "      <td>9.431825</td>\n",
       "      <td>NaN</td>\n",
       "      <td>21.446132</td>\n",
       "      <td>NaN</td>\n",
       "    </tr>\n",
       "    <tr>\n",
       "      <th>31</th>\n",
       "      <td>9.641659</td>\n",
       "      <td>NaN</td>\n",
       "      <td>0.095733</td>\n",
       "      <td>NaN</td>\n",
       "    </tr>\n",
       "    <tr>\n",
       "      <th>32</th>\n",
       "      <td>0.331994</td>\n",
       "      <td>NaN</td>\n",
       "      <td>12.786005</td>\n",
       "      <td>NaN</td>\n",
       "    </tr>\n",
       "    <tr>\n",
       "      <th>33</th>\n",
       "      <td>20.585084</td>\n",
       "      <td>NaN</td>\n",
       "      <td>30.698910</td>\n",
       "      <td>NaN</td>\n",
       "    </tr>\n",
       "    <tr>\n",
       "      <th>34</th>\n",
       "      <td>2.889109</td>\n",
       "      <td>NaN</td>\n",
       "      <td>14.280762</td>\n",
       "      <td>NaN</td>\n",
       "    </tr>\n",
       "    <tr>\n",
       "      <th>35</th>\n",
       "      <td>1.938812</td>\n",
       "      <td>NaN</td>\n",
       "      <td>6.364387</td>\n",
       "      <td>NaN</td>\n",
       "    </tr>\n",
       "    <tr>\n",
       "      <th>36</th>\n",
       "      <td>4.048359</td>\n",
       "      <td>NaN</td>\n",
       "      <td>12.598595</td>\n",
       "      <td>NaN</td>\n",
       "    </tr>\n",
       "    <tr>\n",
       "      <th>37</th>\n",
       "      <td>10.084746</td>\n",
       "      <td>NaN</td>\n",
       "      <td>21.835205</td>\n",
       "      <td>NaN</td>\n",
       "    </tr>\n",
       "    <tr>\n",
       "      <th>38</th>\n",
       "      <td>6.007846</td>\n",
       "      <td>NaN</td>\n",
       "      <td>5.933707</td>\n",
       "      <td>NaN</td>\n",
       "    </tr>\n",
       "    <tr>\n",
       "      <th>39</th>\n",
       "      <td>12.164095</td>\n",
       "      <td>NaN</td>\n",
       "      <td>18.590474</td>\n",
       "      <td>NaN</td>\n",
       "    </tr>\n",
       "    <tr>\n",
       "      <th>40</th>\n",
       "      <td>22.602292</td>\n",
       "      <td>NaN</td>\n",
       "      <td>36.591167</td>\n",
       "      <td>NaN</td>\n",
       "    </tr>\n",
       "    <tr>\n",
       "      <th>41</th>\n",
       "      <td>5.141903</td>\n",
       "      <td>NaN</td>\n",
       "      <td>17.832366</td>\n",
       "      <td>NaN</td>\n",
       "    </tr>\n",
       "    <tr>\n",
       "      <th>42</th>\n",
       "      <td>28.883668</td>\n",
       "      <td>NaN</td>\n",
       "      <td>64.955625</td>\n",
       "      <td>NaN</td>\n",
       "    </tr>\n",
       "    <tr>\n",
       "      <th>43</th>\n",
       "      <td>5.641524</td>\n",
       "      <td>NaN</td>\n",
       "      <td>7.898702</td>\n",
       "      <td>NaN</td>\n",
       "    </tr>\n",
       "    <tr>\n",
       "      <th>44</th>\n",
       "      <td>11.143919</td>\n",
       "      <td>NaN</td>\n",
       "      <td>1.184158</td>\n",
       "      <td>NaN</td>\n",
       "    </tr>\n",
       "    <tr>\n",
       "      <th>45</th>\n",
       "      <td>3.421332</td>\n",
       "      <td>NaN</td>\n",
       "      <td>4.613697</td>\n",
       "      <td>NaN</td>\n",
       "    </tr>\n",
       "    <tr>\n",
       "      <th>46</th>\n",
       "      <td>10.674418</td>\n",
       "      <td>NaN</td>\n",
       "      <td>27.297802</td>\n",
       "      <td>NaN</td>\n",
       "    </tr>\n",
       "    <tr>\n",
       "      <th>47</th>\n",
       "      <td>11.427819</td>\n",
       "      <td>NaN</td>\n",
       "      <td>23.781031</td>\n",
       "      <td>NaN</td>\n",
       "    </tr>\n",
       "    <tr>\n",
       "      <th>48</th>\n",
       "      <td>9.852438</td>\n",
       "      <td>NaN</td>\n",
       "      <td>16.150095</td>\n",
       "      <td>NaN</td>\n",
       "    </tr>\n",
       "    <tr>\n",
       "      <th>49</th>\n",
       "      <td>7.659529</td>\n",
       "      <td>NaN</td>\n",
       "      <td>5.131771</td>\n",
       "      <td>NaN</td>\n",
       "    </tr>\n",
       "  </tbody>\n",
       "</table>\n",
       "</div>"
      ],
      "text/plain": [
       "            x     x_test          y     y_pred\n",
       "0   13.177957  24.344705  32.807207  42.709794\n",
       "1   10.816481   1.938812  34.874936   5.946815\n",
       "2    8.722598  22.602292   0.492838  39.850890\n",
       "3   12.124593   6.007846   7.305623  12.623175\n",
       "4    1.929751   8.722598   2.041573  17.077466\n",
       "5    3.114900  12.124593   6.166324  22.659368\n",
       "6    1.943941   9.852438   1.250036  18.931277\n",
       "7    2.196605   4.389352   9.669859   9.967595\n",
       "8    5.066082  10.674418  15.291499  20.279960\n",
       "9    0.606776   9.641659  10.353384  18.585437\n",
       "10  20.579469   0.331994  26.004219   3.310392\n",
       "11  17.499955  12.164095  23.107588  22.724180\n",
       "12  10.692321   1.345007  15.186861   4.972517\n",
       "13   3.194851        NaN   5.471871        NaN\n",
       "14  17.400498        NaN  35.893838        NaN\n",
       "15  15.973397        NaN  25.479284        NaN\n",
       "16   4.924736        NaN  15.989444        NaN\n",
       "17   9.537637        NaN  18.401743        NaN\n",
       "18   8.528832        NaN  30.559384        NaN\n",
       "19  10.107833        NaN   1.134753        NaN\n",
       "20  13.570758        NaN  26.808535        NaN\n",
       "21   1.345007        NaN   0.173402        NaN\n",
       "22   5.685145        NaN  17.155569        NaN\n",
       "23   6.507735        NaN   5.771138        NaN\n",
       "24   5.363026        NaN   7.885478        NaN\n",
       "25   0.490278        NaN   2.323175        NaN\n",
       "26   7.645722        NaN  16.788313        NaN\n",
       "27  24.344705        NaN  34.424894        NaN\n",
       "28   7.705024        NaN  22.281885        NaN\n",
       "29   4.389352        NaN  14.689356        NaN\n",
       "30   9.431825        NaN  21.446132        NaN\n",
       "31   9.641659        NaN   0.095733        NaN\n",
       "32   0.331994        NaN  12.786005        NaN\n",
       "33  20.585084        NaN  30.698910        NaN\n",
       "34   2.889109        NaN  14.280762        NaN\n",
       "35   1.938812        NaN   6.364387        NaN\n",
       "36   4.048359        NaN  12.598595        NaN\n",
       "37  10.084746        NaN  21.835205        NaN\n",
       "38   6.007846        NaN   5.933707        NaN\n",
       "39  12.164095        NaN  18.590474        NaN\n",
       "40  22.602292        NaN  36.591167        NaN\n",
       "41   5.141903        NaN  17.832366        NaN\n",
       "42  28.883668        NaN  64.955625        NaN\n",
       "43   5.641524        NaN   7.898702        NaN\n",
       "44  11.143919        NaN   1.184158        NaN\n",
       "45   3.421332        NaN   4.613697        NaN\n",
       "46  10.674418        NaN  27.297802        NaN\n",
       "47  11.427819        NaN  23.781031        NaN\n",
       "48   9.852438        NaN  16.150095        NaN\n",
       "49   7.659529        NaN   5.131771        NaN"
      ]
     },
     "execution_count": 61,
     "metadata": {},
     "output_type": "execute_result"
    }
   ],
   "source": [
    "X_test=X_test.reshape(13,)\n",
    "data_pred = pd.DataFrame({'y_pred':y_pred,'x_test':X_test})\n",
    "data.add(data_pred,fill_value=0)\n"
   ]
  },
  {
   "cell_type": "code",
   "execution_count": 60,
   "metadata": {},
   "outputs": [
    {
     "data": {
      "text/plain": [
       "array([24.3447051 ,  1.93881198, 22.60229191,  6.00784565,  8.72259765,\n",
       "       12.12459343,  9.85243806,  4.38935228, 10.67441815,  9.64165912,\n",
       "        0.33199409, 12.16409469,  1.34500742])"
      ]
     },
     "execution_count": 60,
     "metadata": {},
     "output_type": "execute_result"
    }
   ],
   "source": [
    "\n",
    "X_test.shape\n",
    "X_test"
   ]
  },
  {
   "cell_type": "code",
   "execution_count": null,
   "metadata": {},
   "outputs": [],
   "source": []
  },
  {
   "cell_type": "code",
   "execution_count": null,
   "metadata": {},
   "outputs": [],
   "source": []
  }
 ],
 "metadata": {
  "kernelspec": {
   "display_name": "Python 3",
   "language": "python",
   "name": "python3"
  },
  "language_info": {
   "codemirror_mode": {
    "name": "ipython",
    "version": 3
   },
   "file_extension": ".py",
   "mimetype": "text/x-python",
   "name": "python",
   "nbconvert_exporter": "python",
   "pygments_lexer": "ipython3",
   "version": "3.7.3"
  }
 },
 "nbformat": 4,
 "nbformat_minor": 2
}
