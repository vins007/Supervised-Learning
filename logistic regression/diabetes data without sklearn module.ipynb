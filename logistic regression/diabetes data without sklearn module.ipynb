{
 "cells": [
  {
   "cell_type": "markdown",
   "metadata": {},
   "source": [
    "# Handle Data"
   ]
  },
  {
   "cell_type": "code",
   "execution_count": 14,
   "metadata": {},
   "outputs": [
    {
     "ename": "IndentationError",
     "evalue": "expected an indented block (<ipython-input-14-282a0fd9d787>, line 5)",
     "output_type": "error",
     "traceback": [
      "\u001b[1;36m  File \u001b[1;32m\"<ipython-input-14-282a0fd9d787>\"\u001b[1;36m, line \u001b[1;32m5\u001b[0m\n\u001b[1;33m    lines = csv.reader(open(r'C:\\Study Material\\SEM - 4\\MACHINE LEARNING\\supervised learning\\naive bayes\\pima-indians-diabetes.csv'))\u001b[0m\n\u001b[1;37m        ^\u001b[0m\n\u001b[1;31mIndentationError\u001b[0m\u001b[1;31m:\u001b[0m expected an indented block\n"
     ]
    }
   ],
   "source": [
    "import csv\n",
    "import math\n",
    "import random\n",
    "def loadCsv(filename):\n",
    "lines = csv.reader(open(r'C:\\Study Material\\SEM - 4\\MACHINE LEARNING\\supervised learning\\naive bayes\\pima-indians-diabetes.csv'))\n",
    "dataset = list(lines)\n",
    "for i in range(len(dataset)):\n",
    "dataset[i] = [float(x) for x in dataset[i]]\n",
    "return dataset"
   ]
  },
  {
   "cell_type": "code",
   "execution_count": 2,
   "metadata": {},
   "outputs": [
    {
     "ename": "IndentationError",
     "evalue": "expected an indented block (<ipython-input-2-1bbe67ab9c07>, line 2)",
     "output_type": "error",
     "traceback": [
      "\u001b[1;36m  File \u001b[1;32m\"<ipython-input-2-1bbe67ab9c07>\"\u001b[1;36m, line \u001b[1;32m2\u001b[0m\n\u001b[1;33m    trainSize = int(len(dataset) * splitRatio)\u001b[0m\n\u001b[1;37m            ^\u001b[0m\n\u001b[1;31mIndentationError\u001b[0m\u001b[1;31m:\u001b[0m expected an indented block\n"
     ]
    }
   ],
   "source": [
    "def splitDataset(dataset, splitRatio):\n",
    "trainSize = int(len(dataset) * splitRatio)\n",
    "trainSet = []\n",
    "copy = list(dataset)\n",
    "while len(trainSet) &amp;lt; trainSize:\n",
    "index = random.randrange(len(copy))\n",
    "trainSet.append(copy.pop(index))\n",
    "return [trainSet, copy]"
   ]
  },
  {
   "cell_type": "markdown",
   "metadata": {},
   "source": [
    "# Step 2: Summarize the Data"
   ]
  },
  {
   "cell_type": "code",
   "execution_count": 3,
   "metadata": {},
   "outputs": [
    {
     "ename": "IndentationError",
     "evalue": "expected an indented block (<ipython-input-3-6f53f70bb8ef>, line 3)",
     "output_type": "error",
     "traceback": [
      "\u001b[1;36m  File \u001b[1;32m\"<ipython-input-3-6f53f70bb8ef>\"\u001b[1;36m, line \u001b[1;32m3\u001b[0m\n\u001b[1;33m    separated = {}\u001b[0m\n\u001b[1;37m            ^\u001b[0m\n\u001b[1;31mIndentationError\u001b[0m\u001b[1;31m:\u001b[0m expected an indented block\n"
     ]
    }
   ],
   "source": [
    "\n",
    "def separateByClass(dataset):\n",
    "separated = {}\n",
    "for i in range(len(dataset)):\n",
    "vector = dataset[i]\n",
    "if (vector[-1] not in separated):\n",
    "separated[vector[-1]] = []\n",
    "separated[vector[-1]].append(vector)\n",
    "return separated"
   ]
  },
  {
   "cell_type": "code",
   "execution_count": 4,
   "metadata": {},
   "outputs": [
    {
     "ename": "IndentationError",
     "evalue": "expected an indented block (<ipython-input-4-25aa44f9b361>, line 3)",
     "output_type": "error",
     "traceback": [
      "\u001b[1;36m  File \u001b[1;32m\"<ipython-input-4-25aa44f9b361>\"\u001b[1;36m, line \u001b[1;32m3\u001b[0m\n\u001b[1;33m    return sum(numbers)/float(len(numbers))\u001b[0m\n\u001b[1;37m         ^\u001b[0m\n\u001b[1;31mIndentationError\u001b[0m\u001b[1;31m:\u001b[0m expected an indented block\n"
     ]
    }
   ],
   "source": [
    "\n",
    "def mean(numbers):\n",
    "return sum(numbers)/float(len(numbers))"
   ]
  },
  {
   "cell_type": "code",
   "execution_count": 5,
   "metadata": {},
   "outputs": [
    {
     "ename": "IndentationError",
     "evalue": "expected an indented block (<ipython-input-5-6a611d763885>, line 3)",
     "output_type": "error",
     "traceback": [
      "\u001b[1;36m  File \u001b[1;32m\"<ipython-input-5-6a611d763885>\"\u001b[1;36m, line \u001b[1;32m3\u001b[0m\n\u001b[1;33m    avg = mean(numbers)\u001b[0m\n\u001b[1;37m      ^\u001b[0m\n\u001b[1;31mIndentationError\u001b[0m\u001b[1;31m:\u001b[0m expected an indented block\n"
     ]
    }
   ],
   "source": [
    "\n",
    "def stdev(numbers):\n",
    "avg = mean(numbers)\n",
    "variance = sum([pow(x-avg,2) for x in numbers])/float(len(numbers)-1)\n",
    "return math.sqrt(variance)"
   ]
  },
  {
   "cell_type": "code",
   "execution_count": 6,
   "metadata": {},
   "outputs": [
    {
     "ename": "IndentationError",
     "evalue": "expected an indented block (<ipython-input-6-aa3dcaca8780>, line 3)",
     "output_type": "error",
     "traceback": [
      "\u001b[1;36m  File \u001b[1;32m\"<ipython-input-6-aa3dcaca8780>\"\u001b[1;36m, line \u001b[1;32m3\u001b[0m\n\u001b[1;33m    summaries = [(mean(attribute), stdev(attribute)) for attribute in zip(*dataset)]\u001b[0m\n\u001b[1;37m            ^\u001b[0m\n\u001b[1;31mIndentationError\u001b[0m\u001b[1;31m:\u001b[0m expected an indented block\n"
     ]
    }
   ],
   "source": [
    "\n",
    "def summarize(dataset):\n",
    "summaries = [(mean(attribute), stdev(attribute)) for attribute in zip(*dataset)]\n",
    "del summaries[-1]\n",
    "return summaries"
   ]
  },
  {
   "cell_type": "code",
   "execution_count": 7,
   "metadata": {},
   "outputs": [
    {
     "ename": "IndentationError",
     "evalue": "expected an indented block (<ipython-input-7-c27d65ea365b>, line 2)",
     "output_type": "error",
     "traceback": [
      "\u001b[1;36m  File \u001b[1;32m\"<ipython-input-7-c27d65ea365b>\"\u001b[1;36m, line \u001b[1;32m2\u001b[0m\n\u001b[1;33m    separated = separateByClass(dataset)\u001b[0m\n\u001b[1;37m            ^\u001b[0m\n\u001b[1;31mIndentationError\u001b[0m\u001b[1;31m:\u001b[0m expected an indented block\n"
     ]
    }
   ],
   "source": [
    "def summarizeByClass(dataset):\n",
    "separated = separateByClass(dataset)\n",
    "summaries = {}\n",
    "for classValue, instances in separated.items():\n",
    "summaries[classValue] = summarize(instances)\n",
    "return summaries"
   ]
  },
  {
   "cell_type": "code",
   "execution_count": 8,
   "metadata": {},
   "outputs": [
    {
     "ename": "IndentationError",
     "evalue": "expected an indented block (<ipython-input-8-4a34e6682fa1>, line 2)",
     "output_type": "error",
     "traceback": [
      "\u001b[1;36m  File \u001b[1;32m\"<ipython-input-8-4a34e6682fa1>\"\u001b[1;36m, line \u001b[1;32m2\u001b[0m\n\u001b[1;33m    exponent = math.exp(-(math.pow(x-mean,2)/(2*math.pow(stdev,2))))\u001b[0m\n\u001b[1;37m           ^\u001b[0m\n\u001b[1;31mIndentationError\u001b[0m\u001b[1;31m:\u001b[0m expected an indented block\n"
     ]
    }
   ],
   "source": [
    "def calculateProbability(x, mean, stdev):\n",
    "exponent = math.exp(-(math.pow(x-mean,2)/(2*math.pow(stdev,2))))\n",
    "return (1/(math.sqrt(2*math.pi)*stdev))*exponent"
   ]
  },
  {
   "cell_type": "code",
   "execution_count": 9,
   "metadata": {},
   "outputs": [
    {
     "ename": "IndentationError",
     "evalue": "expected an indented block (<ipython-input-9-6eda95345763>, line 2)",
     "output_type": "error",
     "traceback": [
      "\u001b[1;36m  File \u001b[1;32m\"<ipython-input-9-6eda95345763>\"\u001b[1;36m, line \u001b[1;32m2\u001b[0m\n\u001b[1;33m    probabilities = {}\u001b[0m\n\u001b[1;37m                ^\u001b[0m\n\u001b[1;31mIndentationError\u001b[0m\u001b[1;31m:\u001b[0m expected an indented block\n"
     ]
    }
   ],
   "source": [
    "def calculateClassProbabilities(summaries, inputVector):\n",
    "probabilities = {}\n",
    "for classValue, classSummaries in summaries.items():\n",
    "probabilities[classValue] = 1\n",
    "for i in range(len(classSummaries)):\n",
    "mean, stdev = classSummaries[i]\n",
    "x = inputVector[i]\n",
    "probabilities[classValue] *= calculateProbability(x, mean, stdev)\n",
    "return probabilities"
   ]
  },
  {
   "cell_type": "code",
   "execution_count": 10,
   "metadata": {},
   "outputs": [
    {
     "ename": "IndentationError",
     "evalue": "expected an indented block (<ipython-input-10-574f1cd3b75c>, line 2)",
     "output_type": "error",
     "traceback": [
      "\u001b[1;36m  File \u001b[1;32m\"<ipython-input-10-574f1cd3b75c>\"\u001b[1;36m, line \u001b[1;32m2\u001b[0m\n\u001b[1;33m    probabilities = calculateClassProbabilities(summaries, inputVector)\u001b[0m\n\u001b[1;37m                ^\u001b[0m\n\u001b[1;31mIndentationError\u001b[0m\u001b[1;31m:\u001b[0m expected an indented block\n"
     ]
    }
   ],
   "source": [
    "def predict(summaries, inputVector):\n",
    "probabilities = calculateClassProbabilities(summaries, inputVector)\n",
    "bestLabel, bestProb = None, -1\n",
    "for classValue, probability in probabilities.items():\n",
    "if bestLabel is None or probability &amp;gt; bestProb:\n",
    "bestProb = probability\n",
    "bestLabel = classValue\n",
    "return bestLabel"
   ]
  },
  {
   "cell_type": "code",
   "execution_count": 11,
   "metadata": {},
   "outputs": [
    {
     "ename": "IndentationError",
     "evalue": "expected an indented block (<ipython-input-11-2149098bd6d4>, line 3)",
     "output_type": "error",
     "traceback": [
      "\u001b[1;36m  File \u001b[1;32m\"<ipython-input-11-2149098bd6d4>\"\u001b[1;36m, line \u001b[1;32m3\u001b[0m\n\u001b[1;33m    predictions = []\u001b[0m\n\u001b[1;37m              ^\u001b[0m\n\u001b[1;31mIndentationError\u001b[0m\u001b[1;31m:\u001b[0m expected an indented block\n"
     ]
    }
   ],
   "source": [
    "\n",
    "def getPredictions(summaries, testSet):\n",
    "predictions = []\n",
    "for i in range(len(testSet)):\n",
    "result = predict(summaries, testSet[i])\n",
    "predictions.append(result)\n",
    "return predictions"
   ]
  },
  {
   "cell_type": "code",
   "execution_count": 12,
   "metadata": {},
   "outputs": [
    {
     "ename": "IndentationError",
     "evalue": "expected an indented block (<ipython-input-12-7ab270d66513>, line 3)",
     "output_type": "error",
     "traceback": [
      "\u001b[1;36m  File \u001b[1;32m\"<ipython-input-12-7ab270d66513>\"\u001b[1;36m, line \u001b[1;32m3\u001b[0m\n\u001b[1;33m    correct = 0\u001b[0m\n\u001b[1;37m          ^\u001b[0m\n\u001b[1;31mIndentationError\u001b[0m\u001b[1;31m:\u001b[0m expected an indented block\n"
     ]
    }
   ],
   "source": [
    "\n",
    "def getAccuracy(testSet, predictions):\n",
    "correct = 0\n",
    "for x in range(len(testSet)):\n",
    "if testSet[x][-1] == predictions[x]:\n",
    "correct += 1\n",
    "return (correct/float(len(testSet)))*100.0"
   ]
  },
  {
   "cell_type": "code",
   "execution_count": null,
   "metadata": {},
   "outputs": [],
   "source": [
    "\n",
    "def main():\n",
    "filename = 'pima-indians-diabetes.data.csv'\n",
    "splitRatio = 0.67\n",
    "dataset = loadCsv(filename)\n",
    "trainingSet, testSet = splitDataset(dataset, splitRatio)\n",
    "print('Split {0} rows into train = {1} and test = {2} rows'.format(len(dataset),len(trainingSet),len(testSet)))\n",
    "#prepare model\n",
    "summaries = summarizeByClass(trainingSet)\n",
    "#test model\n",
    "predictions = getPredictions(summaries, testSet)\n",
    "accuracy = getAccuracy(testSet, predictions)\n",
    "print('Accuracy: {0}%'.format(accuracy))\n",
    "main()"
   ]
  }
 ],
 "metadata": {
  "kernelspec": {
   "display_name": "Python 3",
   "language": "python",
   "name": "python3"
  },
  "language_info": {
   "codemirror_mode": {
    "name": "ipython",
    "version": 3
   },
   "file_extension": ".py",
   "mimetype": "text/x-python",
   "name": "python",
   "nbconvert_exporter": "python",
   "pygments_lexer": "ipython3",
   "version": "3.7.6"
  }
 },
 "nbformat": 4,
 "nbformat_minor": 2
}
